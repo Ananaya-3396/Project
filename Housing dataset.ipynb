{
 "cells": [
  {
   "cell_type": "markdown",
   "id": "40f58339",
   "metadata": {},
   "source": [
    "### Question 7\n",
    "\n",
    "we are providing you another dataset regarding housing prediction to need to apply Linear Regression on atleast 5 pairs of independent and dependent variable and store their accuracy and then make a plot of those accuracy \n",
    "\tNote : Dependent Variable is SalesPrice"
   ]
  },
  {
   "cell_type": "code",
   "execution_count": 1,
   "id": "047d035d",
   "metadata": {},
   "outputs": [],
   "source": [
    "import pandas as pd\n",
    "import numpy as np\n",
    "import matplotlib.pyplot as plt"
   ]
  },
  {
   "cell_type": "code",
   "execution_count": 2,
   "id": "1dc823b1",
   "metadata": {},
   "outputs": [
    {
     "data": {
      "text/html": [
       "<div>\n",
       "<style scoped>\n",
       "    .dataframe tbody tr th:only-of-type {\n",
       "        vertical-align: middle;\n",
       "    }\n",
       "\n",
       "    .dataframe tbody tr th {\n",
       "        vertical-align: top;\n",
       "    }\n",
       "\n",
       "    .dataframe thead th {\n",
       "        text-align: right;\n",
       "    }\n",
       "</style>\n",
       "<table border=\"1\" class=\"dataframe\">\n",
       "  <thead>\n",
       "    <tr style=\"text-align: right;\">\n",
       "      <th></th>\n",
       "      <th>Unnamed: 0</th>\n",
       "      <th>Id</th>\n",
       "      <th>MSSubClass</th>\n",
       "      <th>MSZoning</th>\n",
       "      <th>LotArea</th>\n",
       "      <th>Street</th>\n",
       "      <th>LotShape</th>\n",
       "      <th>LandContour</th>\n",
       "      <th>Utilities</th>\n",
       "      <th>LotConfig</th>\n",
       "      <th>...</th>\n",
       "      <th>EnclosedPorch</th>\n",
       "      <th>3SsnPorch</th>\n",
       "      <th>ScreenPorch</th>\n",
       "      <th>PoolArea</th>\n",
       "      <th>MiscVal</th>\n",
       "      <th>MoSold</th>\n",
       "      <th>YrSold</th>\n",
       "      <th>SaleType</th>\n",
       "      <th>SaleCondition</th>\n",
       "      <th>SalePrice</th>\n",
       "    </tr>\n",
       "  </thead>\n",
       "  <tbody>\n",
       "    <tr>\n",
       "      <th>0</th>\n",
       "      <td>0</td>\n",
       "      <td>1</td>\n",
       "      <td>60</td>\n",
       "      <td>RL</td>\n",
       "      <td>8450</td>\n",
       "      <td>Pave</td>\n",
       "      <td>Reg</td>\n",
       "      <td>Lvl</td>\n",
       "      <td>AllPub</td>\n",
       "      <td>Inside</td>\n",
       "      <td>...</td>\n",
       "      <td>0</td>\n",
       "      <td>0</td>\n",
       "      <td>0</td>\n",
       "      <td>0</td>\n",
       "      <td>0</td>\n",
       "      <td>2</td>\n",
       "      <td>2008</td>\n",
       "      <td>WD</td>\n",
       "      <td>Normal</td>\n",
       "      <td>208500</td>\n",
       "    </tr>\n",
       "    <tr>\n",
       "      <th>1</th>\n",
       "      <td>1</td>\n",
       "      <td>2</td>\n",
       "      <td>20</td>\n",
       "      <td>RL</td>\n",
       "      <td>9600</td>\n",
       "      <td>Pave</td>\n",
       "      <td>Reg</td>\n",
       "      <td>Lvl</td>\n",
       "      <td>AllPub</td>\n",
       "      <td>FR2</td>\n",
       "      <td>...</td>\n",
       "      <td>0</td>\n",
       "      <td>0</td>\n",
       "      <td>0</td>\n",
       "      <td>0</td>\n",
       "      <td>0</td>\n",
       "      <td>5</td>\n",
       "      <td>2007</td>\n",
       "      <td>WD</td>\n",
       "      <td>Normal</td>\n",
       "      <td>181500</td>\n",
       "    </tr>\n",
       "    <tr>\n",
       "      <th>2</th>\n",
       "      <td>2</td>\n",
       "      <td>3</td>\n",
       "      <td>60</td>\n",
       "      <td>RL</td>\n",
       "      <td>11250</td>\n",
       "      <td>Pave</td>\n",
       "      <td>IR1</td>\n",
       "      <td>Lvl</td>\n",
       "      <td>AllPub</td>\n",
       "      <td>Inside</td>\n",
       "      <td>...</td>\n",
       "      <td>0</td>\n",
       "      <td>0</td>\n",
       "      <td>0</td>\n",
       "      <td>0</td>\n",
       "      <td>0</td>\n",
       "      <td>9</td>\n",
       "      <td>2008</td>\n",
       "      <td>WD</td>\n",
       "      <td>Normal</td>\n",
       "      <td>223500</td>\n",
       "    </tr>\n",
       "    <tr>\n",
       "      <th>3</th>\n",
       "      <td>3</td>\n",
       "      <td>4</td>\n",
       "      <td>70</td>\n",
       "      <td>RL</td>\n",
       "      <td>9550</td>\n",
       "      <td>Pave</td>\n",
       "      <td>IR1</td>\n",
       "      <td>Lvl</td>\n",
       "      <td>AllPub</td>\n",
       "      <td>Corner</td>\n",
       "      <td>...</td>\n",
       "      <td>272</td>\n",
       "      <td>0</td>\n",
       "      <td>0</td>\n",
       "      <td>0</td>\n",
       "      <td>0</td>\n",
       "      <td>2</td>\n",
       "      <td>2006</td>\n",
       "      <td>WD</td>\n",
       "      <td>Abnorml</td>\n",
       "      <td>140000</td>\n",
       "    </tr>\n",
       "    <tr>\n",
       "      <th>4</th>\n",
       "      <td>4</td>\n",
       "      <td>5</td>\n",
       "      <td>60</td>\n",
       "      <td>RL</td>\n",
       "      <td>14260</td>\n",
       "      <td>Pave</td>\n",
       "      <td>IR1</td>\n",
       "      <td>Lvl</td>\n",
       "      <td>AllPub</td>\n",
       "      <td>FR2</td>\n",
       "      <td>...</td>\n",
       "      <td>0</td>\n",
       "      <td>0</td>\n",
       "      <td>0</td>\n",
       "      <td>0</td>\n",
       "      <td>0</td>\n",
       "      <td>12</td>\n",
       "      <td>2008</td>\n",
       "      <td>WD</td>\n",
       "      <td>Normal</td>\n",
       "      <td>250000</td>\n",
       "    </tr>\n",
       "    <tr>\n",
       "      <th>...</th>\n",
       "      <td>...</td>\n",
       "      <td>...</td>\n",
       "      <td>...</td>\n",
       "      <td>...</td>\n",
       "      <td>...</td>\n",
       "      <td>...</td>\n",
       "      <td>...</td>\n",
       "      <td>...</td>\n",
       "      <td>...</td>\n",
       "      <td>...</td>\n",
       "      <td>...</td>\n",
       "      <td>...</td>\n",
       "      <td>...</td>\n",
       "      <td>...</td>\n",
       "      <td>...</td>\n",
       "      <td>...</td>\n",
       "      <td>...</td>\n",
       "      <td>...</td>\n",
       "      <td>...</td>\n",
       "      <td>...</td>\n",
       "      <td>...</td>\n",
       "    </tr>\n",
       "    <tr>\n",
       "      <th>1455</th>\n",
       "      <td>1455</td>\n",
       "      <td>1456</td>\n",
       "      <td>60</td>\n",
       "      <td>RL</td>\n",
       "      <td>7917</td>\n",
       "      <td>Pave</td>\n",
       "      <td>Reg</td>\n",
       "      <td>Lvl</td>\n",
       "      <td>AllPub</td>\n",
       "      <td>Inside</td>\n",
       "      <td>...</td>\n",
       "      <td>0</td>\n",
       "      <td>0</td>\n",
       "      <td>0</td>\n",
       "      <td>0</td>\n",
       "      <td>0</td>\n",
       "      <td>8</td>\n",
       "      <td>2007</td>\n",
       "      <td>WD</td>\n",
       "      <td>Normal</td>\n",
       "      <td>175000</td>\n",
       "    </tr>\n",
       "    <tr>\n",
       "      <th>1456</th>\n",
       "      <td>1456</td>\n",
       "      <td>1457</td>\n",
       "      <td>20</td>\n",
       "      <td>RL</td>\n",
       "      <td>13175</td>\n",
       "      <td>Pave</td>\n",
       "      <td>Reg</td>\n",
       "      <td>Lvl</td>\n",
       "      <td>AllPub</td>\n",
       "      <td>Inside</td>\n",
       "      <td>...</td>\n",
       "      <td>0</td>\n",
       "      <td>0</td>\n",
       "      <td>0</td>\n",
       "      <td>0</td>\n",
       "      <td>0</td>\n",
       "      <td>2</td>\n",
       "      <td>2010</td>\n",
       "      <td>WD</td>\n",
       "      <td>Normal</td>\n",
       "      <td>210000</td>\n",
       "    </tr>\n",
       "    <tr>\n",
       "      <th>1457</th>\n",
       "      <td>1457</td>\n",
       "      <td>1458</td>\n",
       "      <td>70</td>\n",
       "      <td>RL</td>\n",
       "      <td>9042</td>\n",
       "      <td>Pave</td>\n",
       "      <td>Reg</td>\n",
       "      <td>Lvl</td>\n",
       "      <td>AllPub</td>\n",
       "      <td>Inside</td>\n",
       "      <td>...</td>\n",
       "      <td>0</td>\n",
       "      <td>0</td>\n",
       "      <td>0</td>\n",
       "      <td>0</td>\n",
       "      <td>2500</td>\n",
       "      <td>5</td>\n",
       "      <td>2010</td>\n",
       "      <td>WD</td>\n",
       "      <td>Normal</td>\n",
       "      <td>266500</td>\n",
       "    </tr>\n",
       "    <tr>\n",
       "      <th>1458</th>\n",
       "      <td>1458</td>\n",
       "      <td>1459</td>\n",
       "      <td>20</td>\n",
       "      <td>RL</td>\n",
       "      <td>9717</td>\n",
       "      <td>Pave</td>\n",
       "      <td>Reg</td>\n",
       "      <td>Lvl</td>\n",
       "      <td>AllPub</td>\n",
       "      <td>Inside</td>\n",
       "      <td>...</td>\n",
       "      <td>112</td>\n",
       "      <td>0</td>\n",
       "      <td>0</td>\n",
       "      <td>0</td>\n",
       "      <td>0</td>\n",
       "      <td>4</td>\n",
       "      <td>2010</td>\n",
       "      <td>WD</td>\n",
       "      <td>Normal</td>\n",
       "      <td>142125</td>\n",
       "    </tr>\n",
       "    <tr>\n",
       "      <th>1459</th>\n",
       "      <td>1459</td>\n",
       "      <td>1460</td>\n",
       "      <td>20</td>\n",
       "      <td>RL</td>\n",
       "      <td>9937</td>\n",
       "      <td>Pave</td>\n",
       "      <td>Reg</td>\n",
       "      <td>Lvl</td>\n",
       "      <td>AllPub</td>\n",
       "      <td>Inside</td>\n",
       "      <td>...</td>\n",
       "      <td>0</td>\n",
       "      <td>0</td>\n",
       "      <td>0</td>\n",
       "      <td>0</td>\n",
       "      <td>0</td>\n",
       "      <td>6</td>\n",
       "      <td>2008</td>\n",
       "      <td>WD</td>\n",
       "      <td>Normal</td>\n",
       "      <td>147500</td>\n",
       "    </tr>\n",
       "  </tbody>\n",
       "</table>\n",
       "<p>1460 rows × 63 columns</p>\n",
       "</div>"
      ],
      "text/plain": [
       "      Unnamed: 0    Id  MSSubClass MSZoning  LotArea Street LotShape  \\\n",
       "0              0     1          60       RL     8450   Pave      Reg   \n",
       "1              1     2          20       RL     9600   Pave      Reg   \n",
       "2              2     3          60       RL    11250   Pave      IR1   \n",
       "3              3     4          70       RL     9550   Pave      IR1   \n",
       "4              4     5          60       RL    14260   Pave      IR1   \n",
       "...          ...   ...         ...      ...      ...    ...      ...   \n",
       "1455        1455  1456          60       RL     7917   Pave      Reg   \n",
       "1456        1456  1457          20       RL    13175   Pave      Reg   \n",
       "1457        1457  1458          70       RL     9042   Pave      Reg   \n",
       "1458        1458  1459          20       RL     9717   Pave      Reg   \n",
       "1459        1459  1460          20       RL     9937   Pave      Reg   \n",
       "\n",
       "     LandContour Utilities LotConfig  ... EnclosedPorch 3SsnPorch ScreenPorch  \\\n",
       "0            Lvl    AllPub    Inside  ...             0         0           0   \n",
       "1            Lvl    AllPub       FR2  ...             0         0           0   \n",
       "2            Lvl    AllPub    Inside  ...             0         0           0   \n",
       "3            Lvl    AllPub    Corner  ...           272         0           0   \n",
       "4            Lvl    AllPub       FR2  ...             0         0           0   \n",
       "...          ...       ...       ...  ...           ...       ...         ...   \n",
       "1455         Lvl    AllPub    Inside  ...             0         0           0   \n",
       "1456         Lvl    AllPub    Inside  ...             0         0           0   \n",
       "1457         Lvl    AllPub    Inside  ...             0         0           0   \n",
       "1458         Lvl    AllPub    Inside  ...           112         0           0   \n",
       "1459         Lvl    AllPub    Inside  ...             0         0           0   \n",
       "\n",
       "     PoolArea MiscVal MoSold  YrSold  SaleType  SaleCondition  SalePrice  \n",
       "0           0       0      2    2008        WD         Normal     208500  \n",
       "1           0       0      5    2007        WD         Normal     181500  \n",
       "2           0       0      9    2008        WD         Normal     223500  \n",
       "3           0       0      2    2006        WD        Abnorml     140000  \n",
       "4           0       0     12    2008        WD         Normal     250000  \n",
       "...       ...     ...    ...     ...       ...            ...        ...  \n",
       "1455        0       0      8    2007        WD         Normal     175000  \n",
       "1456        0       0      2    2010        WD         Normal     210000  \n",
       "1457        0    2500      5    2010        WD         Normal     266500  \n",
       "1458        0       0      4    2010        WD         Normal     142125  \n",
       "1459        0       0      6    2008        WD         Normal     147500  \n",
       "\n",
       "[1460 rows x 63 columns]"
      ]
     },
     "execution_count": 2,
     "metadata": {},
     "output_type": "execute_result"
    }
   ],
   "source": [
    "df = pd.read_csv(\"houseRegressionStudents (1).csv\")\n",
    "df"
   ]
  },
  {
   "cell_type": "code",
   "execution_count": 4,
   "id": "1da4e4a4",
   "metadata": {},
   "outputs": [
    {
     "data": {
      "text/html": [
       "<div>\n",
       "<style scoped>\n",
       "    .dataframe tbody tr th:only-of-type {\n",
       "        vertical-align: middle;\n",
       "    }\n",
       "\n",
       "    .dataframe tbody tr th {\n",
       "        vertical-align: top;\n",
       "    }\n",
       "\n",
       "    .dataframe thead th {\n",
       "        text-align: right;\n",
       "    }\n",
       "</style>\n",
       "<table border=\"1\" class=\"dataframe\">\n",
       "  <thead>\n",
       "    <tr style=\"text-align: right;\">\n",
       "      <th></th>\n",
       "      <th>LotArea</th>\n",
       "      <th>OpenPorchSF</th>\n",
       "      <th>EnclosedPorch</th>\n",
       "      <th>PoolArea</th>\n",
       "      <th>YrSold</th>\n",
       "      <th>SalePrice</th>\n",
       "    </tr>\n",
       "  </thead>\n",
       "  <tbody>\n",
       "    <tr>\n",
       "      <th>0</th>\n",
       "      <td>8450</td>\n",
       "      <td>61</td>\n",
       "      <td>0</td>\n",
       "      <td>0</td>\n",
       "      <td>2008</td>\n",
       "      <td>208500</td>\n",
       "    </tr>\n",
       "    <tr>\n",
       "      <th>1</th>\n",
       "      <td>9600</td>\n",
       "      <td>0</td>\n",
       "      <td>0</td>\n",
       "      <td>0</td>\n",
       "      <td>2007</td>\n",
       "      <td>181500</td>\n",
       "    </tr>\n",
       "    <tr>\n",
       "      <th>2</th>\n",
       "      <td>11250</td>\n",
       "      <td>42</td>\n",
       "      <td>0</td>\n",
       "      <td>0</td>\n",
       "      <td>2008</td>\n",
       "      <td>223500</td>\n",
       "    </tr>\n",
       "    <tr>\n",
       "      <th>3</th>\n",
       "      <td>9550</td>\n",
       "      <td>35</td>\n",
       "      <td>272</td>\n",
       "      <td>0</td>\n",
       "      <td>2006</td>\n",
       "      <td>140000</td>\n",
       "    </tr>\n",
       "    <tr>\n",
       "      <th>4</th>\n",
       "      <td>14260</td>\n",
       "      <td>84</td>\n",
       "      <td>0</td>\n",
       "      <td>0</td>\n",
       "      <td>2008</td>\n",
       "      <td>250000</td>\n",
       "    </tr>\n",
       "    <tr>\n",
       "      <th>...</th>\n",
       "      <td>...</td>\n",
       "      <td>...</td>\n",
       "      <td>...</td>\n",
       "      <td>...</td>\n",
       "      <td>...</td>\n",
       "      <td>...</td>\n",
       "    </tr>\n",
       "    <tr>\n",
       "      <th>1455</th>\n",
       "      <td>7917</td>\n",
       "      <td>40</td>\n",
       "      <td>0</td>\n",
       "      <td>0</td>\n",
       "      <td>2007</td>\n",
       "      <td>175000</td>\n",
       "    </tr>\n",
       "    <tr>\n",
       "      <th>1456</th>\n",
       "      <td>13175</td>\n",
       "      <td>0</td>\n",
       "      <td>0</td>\n",
       "      <td>0</td>\n",
       "      <td>2010</td>\n",
       "      <td>210000</td>\n",
       "    </tr>\n",
       "    <tr>\n",
       "      <th>1457</th>\n",
       "      <td>9042</td>\n",
       "      <td>60</td>\n",
       "      <td>0</td>\n",
       "      <td>0</td>\n",
       "      <td>2010</td>\n",
       "      <td>266500</td>\n",
       "    </tr>\n",
       "    <tr>\n",
       "      <th>1458</th>\n",
       "      <td>9717</td>\n",
       "      <td>0</td>\n",
       "      <td>112</td>\n",
       "      <td>0</td>\n",
       "      <td>2010</td>\n",
       "      <td>142125</td>\n",
       "    </tr>\n",
       "    <tr>\n",
       "      <th>1459</th>\n",
       "      <td>9937</td>\n",
       "      <td>68</td>\n",
       "      <td>0</td>\n",
       "      <td>0</td>\n",
       "      <td>2008</td>\n",
       "      <td>147500</td>\n",
       "    </tr>\n",
       "  </tbody>\n",
       "</table>\n",
       "<p>1460 rows × 6 columns</p>\n",
       "</div>"
      ],
      "text/plain": [
       "      LotArea  OpenPorchSF  EnclosedPorch  PoolArea  YrSold  SalePrice\n",
       "0        8450           61              0         0    2008     208500\n",
       "1        9600            0              0         0    2007     181500\n",
       "2       11250           42              0         0    2008     223500\n",
       "3        9550           35            272         0    2006     140000\n",
       "4       14260           84              0         0    2008     250000\n",
       "...       ...          ...            ...       ...     ...        ...\n",
       "1455     7917           40              0         0    2007     175000\n",
       "1456    13175            0              0         0    2010     210000\n",
       "1457     9042           60              0         0    2010     266500\n",
       "1458     9717            0            112         0    2010     142125\n",
       "1459     9937           68              0         0    2008     147500\n",
       "\n",
       "[1460 rows x 6 columns]"
      ]
     },
     "execution_count": 4,
     "metadata": {},
     "output_type": "execute_result"
    }
   ],
   "source": [
    "req= df[[\"LotArea\",\"OpenPorchSF\",\"EnclosedPorch\",\"PoolArea\",\"YrSold\",\"SalePrice\"]]\n",
    "req"
   ]
  },
  {
   "cell_type": "code",
   "execution_count": 5,
   "id": "9019511a",
   "metadata": {},
   "outputs": [
    {
     "data": {
      "text/plain": [
       "<function matplotlib.pyplot.show(close=None, block=None)>"
      ]
     },
     "execution_count": 5,
     "metadata": {},
     "output_type": "execute_result"
    },
    {
     "data": {
      "image/png": "[encoded data removed]",
      "text/plain": [
       "<Figure size 432x288 with 1 Axes>"
      ]
     },
     "metadata": {
      "needs_background": "light"
     },
     "output_type": "display_data"
    }
   ],
   "source": [
    "plt.scatter(req.LotArea,req.SalePrice, color =\"b\")\n",
    "plt.xlabel(\"Lot Area\")\n",
    "plt.ylabel(\"Sale Price\")\n",
    "plt.show"
   ]
  },
  {
   "cell_type": "code",
   "execution_count": 19,
   "id": "c390ee82",
   "metadata": {},
   "outputs": [
    {
     "data": {
      "text/plain": [
       "<function matplotlib.pyplot.show(close=None, block=None)>"
      ]
     },
     "execution_count": 19,
     "metadata": {},
     "output_type": "execute_result"
    },
    {
     "data": {
      "image/png": "[encoded data removed]",
      "text/plain": [
       "<Figure size 432x288 with 1 Axes>"
      ]
     },
     "metadata": {
      "needs_background": "light"
     },
     "output_type": "display_data"
    }
   ],
   "source": [
    "plt.scatter(req.OpenPorchSF\t,req.SalePrice, color =\"b\")\n",
    "plt.xlabel(\"Open Porch\")\n",
    "plt.ylabel(\"Sale Price\")\n",
    "plt.show"
   ]
  },
  {
   "cell_type": "code",
   "execution_count": 7,
   "id": "59fddbae",
   "metadata": {},
   "outputs": [
    {
     "data": {
      "text/plain": [
       "<function matplotlib.pyplot.show(close=None, block=None)>"
      ]
     },
     "execution_count": 7,
     "metadata": {},
     "output_type": "execute_result"
    },
    {
     "data": {
      "image/png": "[encoded data removed]",
      "text/plain": [
       "<Figure size 432x288 with 1 Axes>"
      ]
     },
     "metadata": {
      "needs_background": "light"
     },
     "output_type": "display_data"
    }
   ],
   "source": [
    "plt.scatter(req.EnclosedPorch,req.SalePrice, color =\"b\")\n",
    "plt.xlabel(\"Enclosed Porch\")\n",
    "plt.ylabel(\"Sale Price\")\n",
    "plt.show"
   ]
  },
  {
   "cell_type": "code",
   "execution_count": 8,
   "id": "f3c290fc",
   "metadata": {},
   "outputs": [
    {
     "data": {
      "text/plain": [
       "<function matplotlib.pyplot.show(close=None, block=None)>"
      ]
     },
     "execution_count": 8,
     "metadata": {},
     "output_type": "execute_result"
    },
    {
     "data": {
      "image/png": "[encoded data removed]",
      "text/plain": [
       "<Figure size 432x288 with 1 Axes>"
      ]
     },
     "metadata": {
      "needs_background": "light"
     },
     "output_type": "display_data"
    }
   ],
   "source": [
    "plt.scatter(req.PoolArea,req.SalePrice, color =\"b\")\n",
    "plt.xlabel(\"Pool Area\")\n",
    "plt.ylabel(\"Sale Price\")\n",
    "plt.show"
   ]
  },
  {
   "cell_type": "code",
   "execution_count": 9,
   "id": "3b1db34d",
   "metadata": {},
   "outputs": [
    {
     "data": {
      "text/plain": [
       "<function matplotlib.pyplot.show(close=None, block=None)>"
      ]
     },
     "execution_count": 9,
     "metadata": {},
     "output_type": "execute_result"
    },
    {
     "data": {
      "image/png": "[encoded data removed]",
      "text/plain": [
       "<Figure size 432x288 with 1 Axes>"
      ]
     },
     "metadata": {
      "needs_background": "light"
     },
     "output_type": "display_data"
    }
   ],
   "source": [
    "plt.scatter(req.YrSold,req.SalePrice, color =\"b\")\n",
    "plt.xlabel(\"Year Sold\")\n",
    "plt.ylabel(\"Sale Price\")\n",
    "plt.show"
   ]
  },
  {
   "cell_type": "code",
   "execution_count": 10,
   "id": "4482f9ce",
   "metadata": {},
   "outputs": [
    {
     "data": {
      "text/plain": [
       "array([False,  True, False, ..., False,  True,  True])"
      ]
     },
     "execution_count": 10,
     "metadata": {},
     "output_type": "execute_result"
    }
   ],
   "source": [
    "mask = np.random.rand(len(req))<0.80\n",
    "mask"
   ]
  },
  {
   "cell_type": "code",
   "execution_count": 11,
   "id": "9aa93da9",
   "metadata": {},
   "outputs": [
    {
     "name": "stdout",
     "output_type": "stream",
     "text": [
      "(1161, 6) (299, 6)\n"
     ]
    }
   ],
   "source": [
    "train = req[mask]\n",
    "test = req[~mask]\n",
    "print(train.shape,test.shape)"
   ]
  },
  {
   "cell_type": "code",
   "execution_count": 13,
   "id": "31ae81bc",
   "metadata": {},
   "outputs": [
    {
     "data": {
      "text/plain": [
       "LinearRegression()"
      ]
     },
     "execution_count": 13,
     "metadata": {},
     "output_type": "execute_result"
    }
   ],
   "source": [
    "from sklearn import linear_model\n",
    "\n",
    "regr = linear_model.LinearRegression()\n",
    "regr"
   ]
  },
  {
   "cell_type": "code",
   "execution_count": 21,
   "id": "80315a78",
   "metadata": {},
   "outputs": [],
   "source": [
    "trainx1 = np.asanyarray(train[['LotArea']])\n",
    "trainy = np.asanyarray(train[['SalePrice']])"
   ]
  },
  {
   "cell_type": "code",
   "execution_count": 22,
   "id": "6d945601",
   "metadata": {},
   "outputs": [
    {
     "data": {
      "text/plain": [
       "LinearRegression()"
      ]
     },
     "execution_count": 22,
     "metadata": {},
     "output_type": "execute_result"
    }
   ],
   "source": [
    "regr.fit(trainx1, trainy)"
   ]
  },
  {
   "cell_type": "code",
   "execution_count": 23,
   "id": "8d2d1786",
   "metadata": {},
   "outputs": [
    {
     "name": "stdout",
     "output_type": "stream",
     "text": [
      "[[1.95747619]] [161497.93455531]\n"
     ]
    }
   ],
   "source": [
    "print(regr.coef_,regr.intercept_)"
   ]
  },
  {
   "cell_type": "code",
   "execution_count": 24,
   "id": "fbe61a71",
   "metadata": {},
   "outputs": [
    {
     "data": {
      "text/plain": [
       "Text(0, 0.5, 'SalePrice')"
      ]
     },
     "execution_count": 24,
     "metadata": {},
     "output_type": "execute_result"
    },
    {
     "data": {
      "image/png": "[encoded data removed]",
      "text/plain": [
       "<Figure size 432x288 with 1 Axes>"
      ]
     },
     "metadata": {
      "needs_background": "light"
     },
     "output_type": "display_data"
    }
   ],
   "source": [
    "plt.scatter(train.LotArea, train.SalePrice,  color='blue')\n",
    "plt.plot(trainx1, regr.coef_[0][0]*trainx1 + regr.intercept_[0], 'r') \n",
    "plt.xlabel(\"LotArea\")\n",
    "plt.ylabel(\"SalePrice\")"
   ]
  },
  {
   "cell_type": "code",
   "execution_count": 25,
   "id": "9f19f450",
   "metadata": {},
   "outputs": [
    {
     "name": "stdout",
     "output_type": "stream",
     "text": [
      "[[405.64109828]] [162969.61583749]\n"
     ]
    }
   ],
   "source": [
    "trainx2 = np.asanyarray(train[['OpenPorchSF']])\n",
    "trainy = np.asanyarray(train[['SalePrice']])\n",
    "regr.fit(trainx2, trainy)\n",
    "print(regr.coef_,regr.intercept_)"
   ]
  },
  {
   "cell_type": "code",
   "execution_count": 26,
   "id": "900f1218",
   "metadata": {},
   "outputs": [
    {
     "data": {
      "text/plain": [
       "<function matplotlib.pyplot.show(close=None, block=None)>"
      ]
     },
     "execution_count": 26,
     "metadata": {},
     "output_type": "execute_result"
    },
    {
     "data": {
      "image/png": "[encoded data removed]",
      "text/plain": [
       "<Figure size 432x288 with 1 Axes>"
      ]
     },
     "metadata": {
      "needs_background": "light"
     },
     "output_type": "display_data"
    }
   ],
   "source": [
    "plt.scatter(req.OpenPorchSF,req.SalePrice, color =\"b\")\n",
    "plt.plot(trainx2, regr.coef_[0][0]*trainx2 + regr.intercept_[0], 'r') \n",
    "plt.xlabel(\"Open Porch\")\n",
    "plt.ylabel(\"Sale Price\")\n",
    "plt.show"
   ]
  },
  {
   "cell_type": "code",
   "execution_count": 28,
   "id": "5d61b66e",
   "metadata": {},
   "outputs": [
    {
     "name": "stdout",
     "output_type": "stream",
     "text": [
      "[[-188.68334834]] [186104.83174874]\n"
     ]
    }
   ],
   "source": [
    "trainx3 = np.asanyarray(train[['EnclosedPorch']])\n",
    "trainy = np.asanyarray(train[['SalePrice']])\n",
    "regr.fit(trainx3, trainy)\n",
    "print(regr.coef_,regr.intercept_)"
   ]
  },
  {
   "cell_type": "code",
   "execution_count": 29,
   "id": "b1891803",
   "metadata": {},
   "outputs": [
    {
     "data": {
      "text/plain": [
       "<function matplotlib.pyplot.show(close=None, block=None)>"
      ]
     },
     "execution_count": 29,
     "metadata": {},
     "output_type": "execute_result"
    },
    {
     "data": {
      "image/png": "[encoded data removed]",
      "text/plain": [
       "<Figure size 432x288 with 1 Axes>"
      ]
     },
     "metadata": {
      "needs_background": "light"
     },
     "output_type": "display_data"
    }
   ],
   "source": [
    "plt.scatter(req.EnclosedPorch,req.SalePrice, color =\"b\")\n",
    "plt.plot(trainx3, regr.coef_[0][0]*trainx3 + regr.intercept_[0], 'r') \n",
    "plt.xlabel(\"Enclosed Porch\")\n",
    "plt.ylabel(\"Sale Price\")\n",
    "plt.show"
   ]
  },
  {
   "cell_type": "code",
   "execution_count": 30,
   "id": "cb1379ab",
   "metadata": {},
   "outputs": [
    {
     "name": "stdout",
     "output_type": "stream",
     "text": [
      "[[225.82699288]] [181452.36815665]\n"
     ]
    }
   ],
   "source": [
    "trainx4 = np.asanyarray(train[['PoolArea']])\n",
    "trainy = np.asanyarray(train[['SalePrice']])\n",
    "regr.fit(trainx4, trainy)\n",
    "print(regr.coef_,regr.intercept_)"
   ]
  },
  {
   "cell_type": "code",
   "execution_count": 31,
   "id": "3075470f",
   "metadata": {},
   "outputs": [
    {
     "data": {
      "text/plain": [
       "<function matplotlib.pyplot.show(close=None, block=None)>"
      ]
     },
     "execution_count": 31,
     "metadata": {},
     "output_type": "execute_result"
    },
    {
     "data": {
      "image/png": "[encoded data removed]",
      "text/plain": [
       "<Figure size 432x288 with 1 Axes>"
      ]
     },
     "metadata": {
      "needs_background": "light"
     },
     "output_type": "display_data"
    }
   ],
   "source": [
    "plt.scatter(req.PoolArea,req.SalePrice, color =\"b\")\n",
    "plt.plot(trainx4, regr.coef_[0][0]*trainx4 + regr.intercept_[0], 'r') \n",
    "plt.xlabel(\"Pool Area\")\n",
    "plt.ylabel(\"Sale Price\")\n",
    "plt.show"
   ]
  },
  {
   "cell_type": "code",
   "execution_count": 32,
   "id": "b6f89c41",
   "metadata": {},
   "outputs": [
    {
     "name": "stdout",
     "output_type": "stream",
     "text": [
      "[[-2245.7503356]] [4691062.05647294]\n"
     ]
    }
   ],
   "source": [
    "trainx5 = np.asanyarray(train[['YrSold']])\n",
    "trainy = np.asanyarray(train[['SalePrice']])\n",
    "regr.fit(trainx5, trainy)\n",
    "print(regr.coef_,regr.intercept_)"
   ]
  },
  {
   "cell_type": "code",
   "execution_count": 33,
   "id": "e8096ce4",
   "metadata": {},
   "outputs": [
    {
     "data": {
      "text/plain": [
       "<function matplotlib.pyplot.show(close=None, block=None)>"
      ]
     },
     "execution_count": 33,
     "metadata": {},
     "output_type": "execute_result"
    },
    {
     "data": {
      "image/png": "[encoded data removed]",
      "text/plain": [
       "<Figure size 432x288 with 1 Axes>"
      ]
     },
     "metadata": {
      "needs_background": "light"
     },
     "output_type": "display_data"
    }
   ],
   "source": [
    "plt.scatter(req.YrSold,req.SalePrice, color =\"b\")\n",
    "plt.plot(trainx5, regr.coef_[0][0]*trainx5 + regr.intercept_[0], 'r')\n",
    "plt.xlabel(\"Year Sold\")\n",
    "plt.ylabel(\"Sale Price\")\n",
    "plt.show"
   ]
  },
  {
   "cell_type": "markdown",
   "id": "475c15b3",
   "metadata": {},
   "source": [
    "### Evaluating lot area vs saleprice "
   ]
  },
  {
   "cell_type": "code",
   "execution_count": 37,
   "id": "1c967db2",
   "metadata": {},
   "outputs": [
    {
     "name": "stdout",
     "output_type": "stream",
     "text": [
      "(299, 1) (299, 1) (299, 1)\n"
     ]
    }
   ],
   "source": [
    "testx1 = np.asanyarray(test[['LotArea']])\n",
    "testy = np.asanyarray(test[['SalePrice']])\n",
    "predictedy1 = regr.predict(testx1)\n",
    "print(testx1.shape,testy.shape,predictedy1.shape)"
   ]
  },
  {
   "cell_type": "code",
   "execution_count": 41,
   "id": "01b2f0ef",
   "metadata": {},
   "outputs": [
    {
     "name": "stdout",
     "output_type": "stream",
     "text": [
      "-159778.1177458053\n"
     ]
    }
   ],
   "source": [
    "from sklearn.metrics import r2_score \n",
    "\n",
    "r2_score = r2_score(testy , predictedy1)\n",
    "print(r2_score)"
   ]
  },
  {
   "cell_type": "markdown",
   "id": "11601fb5",
   "metadata": {},
   "source": [
    "### Evaluating open porch vs saleprice "
   ]
  },
  {
   "cell_type": "code",
   "execution_count": 49,
   "id": "2b8024e4",
   "metadata": {},
   "outputs": [
    {
     "name": "stdout",
     "output_type": "stream",
     "text": [
      "(299, 1) (299, 1) (299, 1)\n"
     ]
    }
   ],
   "source": [
    "testx2 = np.asanyarray(test[['OpenPorchSF']])\n",
    "testy = np.asanyarray(test[['SalePrice']])\n",
    "predictedy2 = regr.predict(testx2)\n",
    "print(testx2.shape,testy.shape,predictedy2.shape)"
   ]
  },
  {
   "cell_type": "code",
   "execution_count": 50,
   "id": "78adbc1c",
   "metadata": {},
   "outputs": [
    {
     "name": "stdout",
     "output_type": "stream",
     "text": [
      "-3273.2809069061386\n"
     ]
    }
   ],
   "source": [
    "from sklearn.metrics import r2_score \n",
    "\n",
    "r2_score = r2_score(testy , predictedy2)\n",
    "print(r2_score)"
   ]
  },
  {
   "cell_type": "markdown",
   "id": "02e47249",
   "metadata": {},
   "source": [
    "### Evaluating enclosed porch vs saleprice"
   ]
  },
  {
   "cell_type": "code",
   "execution_count": 51,
   "id": "a6143589",
   "metadata": {},
   "outputs": [
    {
     "name": "stdout",
     "output_type": "stream",
     "text": [
      "(299, 1) (299, 1) (299, 1)\n"
     ]
    }
   ],
   "source": [
    "testx3 = np.asanyarray(test[['EnclosedPorch']])\n",
    "testy = np.asanyarray(test[['SalePrice']])\n",
    "predictedy3 = regr.predict(testx3)\n",
    "print(testx3.shape,testy.shape,predictedy3.shape)"
   ]
  },
  {
   "cell_type": "code",
   "execution_count": 52,
   "id": "3b251659",
   "metadata": {},
   "outputs": [
    {
     "name": "stdout",
     "output_type": "stream",
     "text": [
      "-3346.0540097719345\n"
     ]
    }
   ],
   "source": [
    "from sklearn.metrics import r2_score \n",
    "\n",
    "r2_score = r2_score(testy , predictedy3)\n",
    "print(r2_score)"
   ]
  },
  {
   "cell_type": "markdown",
   "id": "a172ec4b",
   "metadata": {},
   "source": [
    "### Evaluating enclosed pool area vs saleprice"
   ]
  },
  {
   "cell_type": "code",
   "execution_count": 53,
   "id": "2cd7d320",
   "metadata": {},
   "outputs": [
    {
     "name": "stdout",
     "output_type": "stream",
     "text": [
      "(299, 1) (299, 1) (299, 1)\n"
     ]
    }
   ],
   "source": [
    "testx4 = np.asanyarray(test[['PoolArea']])\n",
    "testy = np.asanyarray(test[['SalePrice']])\n",
    "predictedy4 = regr.predict(testx4)\n",
    "print(testx4.shape,testy.shape,predictedy4.shape)"
   ]
  },
  {
   "cell_type": "code",
   "execution_count": 54,
   "id": "ab2c3a29",
   "metadata": {},
   "outputs": [
    {
     "name": "stdout",
     "output_type": "stream",
     "text": [
      "-3410.9112036250235\n"
     ]
    }
   ],
   "source": [
    "from sklearn.metrics import r2_score \n",
    "\n",
    "r2_score = r2_score(testy , predictedy4)\n",
    "print(r2_score)"
   ]
  },
  {
   "cell_type": "markdown",
   "id": "ab485015",
   "metadata": {},
   "source": [
    "### Evaluating year sold vs saleprice"
   ]
  },
  {
   "cell_type": "code",
   "execution_count": 55,
   "id": "1753ca98",
   "metadata": {},
   "outputs": [
    {
     "name": "stdout",
     "output_type": "stream",
     "text": [
      "(299, 1) (299, 1) (299, 1)\n"
     ]
    }
   ],
   "source": [
    "testx5 = np.asanyarray(test[['YrSold']])\n",
    "testy = np.asanyarray(test[['SalePrice']])\n",
    "predictedy5 = regr.predict(testx5)\n",
    "print(testx5.shape,testy.shape,predictedy5.shape)"
   ]
  },
  {
   "cell_type": "code",
   "execution_count": 56,
   "id": "40ded8d7",
   "metadata": {},
   "outputs": [
    {
     "name": "stdout",
     "output_type": "stream",
     "text": [
      "-0.0066783810144912525\n"
     ]
    }
   ],
   "source": [
    "from sklearn.metrics import r2_score \n",
    "\n",
    "r2_score = r2_score(testy , predictedy5)\n",
    "print(r2_score)"
   ]
  },
  {
   "cell_type": "code",
   "execution_count": null,
   "id": "0baeb358",
   "metadata": {},
   "outputs": [],
   "source": []
  }
 ],
 "metadata": {
  "kernelspec": {
   "display_name": "Python 3 (ipykernel)",
   "language": "python",
   "name": "python3"
  },
  "language_info": {
   "codemirror_mode": {
    "name": "ipython",
    "version": 3
   },
   "file_extension": ".py",
   "mimetype": "text/x-python",
   "name": "python",
   "nbconvert_exporter": "python",
   "pygments_lexer": "ipython3",
   "version": "3.9.12"
  }
 },
 "nbformat": 4,
 "nbformat_minor": 5
}
