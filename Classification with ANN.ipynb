{
 "cells": [
  {
   "cell_type": "code",
   "execution_count": 1,
   "id": "0f537d8e",
   "metadata": {},
   "outputs": [],
   "source": [
    "import pandas as pd\n",
    "import numpy as np"
   ]
  },
  {
   "cell_type": "code",
   "execution_count": 2,
   "id": "0029cdef",
   "metadata": {},
   "outputs": [
    {
     "data": {
      "text/html": [
       "<div>\n",
       "<style scoped>\n",
       "    .dataframe tbody tr th:only-of-type {\n",
       "        vertical-align: middle;\n",
       "    }\n",
       "\n",
       "    .dataframe tbody tr th {\n",
       "        vertical-align: top;\n",
       "    }\n",
       "\n",
       "    .dataframe thead th {\n",
       "        text-align: right;\n",
       "    }\n",
       "</style>\n",
       "<table border=\"1\" class=\"dataframe\">\n",
       "  <thead>\n",
       "    <tr style=\"text-align: right;\">\n",
       "      <th></th>\n",
       "      <th>Pregnancies</th>\n",
       "      <th>Glucose</th>\n",
       "      <th>BloodPressure</th>\n",
       "      <th>SkinThickness</th>\n",
       "      <th>Insulin</th>\n",
       "      <th>BMI</th>\n",
       "      <th>DiabetesPedigreeFunction</th>\n",
       "      <th>Age</th>\n",
       "      <th>Outcome</th>\n",
       "    </tr>\n",
       "  </thead>\n",
       "  <tbody>\n",
       "    <tr>\n",
       "      <th>0</th>\n",
       "      <td>6</td>\n",
       "      <td>148</td>\n",
       "      <td>72</td>\n",
       "      <td>35</td>\n",
       "      <td>0</td>\n",
       "      <td>33.6</td>\n",
       "      <td>0.627</td>\n",
       "      <td>50</td>\n",
       "      <td>1</td>\n",
       "    </tr>\n",
       "    <tr>\n",
       "      <th>1</th>\n",
       "      <td>1</td>\n",
       "      <td>85</td>\n",
       "      <td>66</td>\n",
       "      <td>29</td>\n",
       "      <td>0</td>\n",
       "      <td>26.6</td>\n",
       "      <td>0.351</td>\n",
       "      <td>31</td>\n",
       "      <td>0</td>\n",
       "    </tr>\n",
       "    <tr>\n",
       "      <th>2</th>\n",
       "      <td>8</td>\n",
       "      <td>183</td>\n",
       "      <td>64</td>\n",
       "      <td>0</td>\n",
       "      <td>0</td>\n",
       "      <td>23.3</td>\n",
       "      <td>0.672</td>\n",
       "      <td>32</td>\n",
       "      <td>1</td>\n",
       "    </tr>\n",
       "    <tr>\n",
       "      <th>3</th>\n",
       "      <td>1</td>\n",
       "      <td>89</td>\n",
       "      <td>66</td>\n",
       "      <td>23</td>\n",
       "      <td>94</td>\n",
       "      <td>28.1</td>\n",
       "      <td>0.167</td>\n",
       "      <td>21</td>\n",
       "      <td>0</td>\n",
       "    </tr>\n",
       "    <tr>\n",
       "      <th>4</th>\n",
       "      <td>0</td>\n",
       "      <td>137</td>\n",
       "      <td>40</td>\n",
       "      <td>35</td>\n",
       "      <td>168</td>\n",
       "      <td>43.1</td>\n",
       "      <td>2.288</td>\n",
       "      <td>33</td>\n",
       "      <td>1</td>\n",
       "    </tr>\n",
       "  </tbody>\n",
       "</table>\n",
       "</div>"
      ],
      "text/plain": [
       "   Pregnancies  Glucose  BloodPressure  SkinThickness  Insulin   BMI  \\\n",
       "0            6      148             72             35        0  33.6   \n",
       "1            1       85             66             29        0  26.6   \n",
       "2            8      183             64              0        0  23.3   \n",
       "3            1       89             66             23       94  28.1   \n",
       "4            0      137             40             35      168  43.1   \n",
       "\n",
       "   DiabetesPedigreeFunction  Age  Outcome  \n",
       "0                     0.627   50        1  \n",
       "1                     0.351   31        0  \n",
       "2                     0.672   32        1  \n",
       "3                     0.167   21        0  \n",
       "4                     2.288   33        1  "
      ]
     },
     "execution_count": 2,
     "metadata": {},
     "output_type": "execute_result"
    }
   ],
   "source": [
    "data = pd.read_csv(\"diabetes.csv\")\n",
    "data.head()"
   ]
  },
  {
   "cell_type": "code",
   "execution_count": 3,
   "id": "e94f2d61",
   "metadata": {},
   "outputs": [],
   "source": [
    "x = data.drop(['Outcome'], axis =1 ).values\n",
    "y = data['Outcome'].values"
   ]
  },
  {
   "cell_type": "code",
   "execution_count": 4,
   "id": "206f705d",
   "metadata": {},
   "outputs": [
    {
     "data": {
      "text/plain": [
       "array([1, 0, 1, 0, 1, 0, 1, 0, 1, 1, 0, 1, 0, 1, 1, 1, 1, 1, 0, 1, 0, 0,\n",
       "       1, 1, 1, 1, 1, 0, 0, 0, 0, 1, 0, 0, 0, 0, 0, 1, 1, 1, 0, 0, 0, 1,\n",
       "       0, 1, 0, 0, 1, 0, 0, 0, 0, 1, 0, 0, 1, 0, 0, 0, 0, 1, 0, 0, 1, 0,\n",
       "       1, 0, 0, 0, 1, 0, 1, 0, 0, 0, 0, 0, 1, 0, 0, 0, 0, 0, 1, 0, 0, 0,\n",
       "       1, 0, 0, 0, 0, 1, 0, 0, 0, 0, 0, 1, 1, 0, 0, 0, 0, 0, 0, 0, 0, 1,\n",
       "       1, 1, 0, 0, 1, 1, 1, 0, 0, 0, 1, 0, 0, 0, 1, 1, 0, 0, 1, 1, 1, 1,\n",
       "       1, 0, 0, 0, 0, 0, 0, 0, 0, 0, 0, 1, 0, 0, 0, 0, 0, 0, 0, 0, 1, 0,\n",
       "       1, 1, 0, 0, 0, 1, 0, 0, 0, 0, 1, 1, 0, 0, 0, 0, 1, 1, 0, 0, 0, 1,\n",
       "       0, 1, 0, 1, 0, 0, 0, 0, 0, 1, 1, 1, 1, 1, 0, 0, 1, 1, 0, 1, 0, 1,\n",
       "       1, 1, 0, 0, 0, 0, 0, 0, 1, 1, 0, 1, 0, 0, 0, 1, 1, 1, 1, 0, 1, 1,\n",
       "       1, 1, 0, 0, 0, 0, 0, 1, 0, 0, 1, 1, 0, 0, 0, 1, 1, 1, 1, 0, 0, 0,\n",
       "       1, 1, 0, 1, 0, 0, 0, 0, 0, 0, 0, 0, 1, 1, 0, 0, 0, 1, 0, 1, 0, 0,\n",
       "       1, 0, 1, 0, 0, 1, 1, 0, 0, 0, 0, 0, 1, 0, 0, 0, 1, 0, 0, 1, 1, 0,\n",
       "       0, 1, 0, 0, 0, 1, 1, 1, 0, 0, 1, 0, 1, 0, 1, 1, 0, 1, 0, 0, 1, 0,\n",
       "       1, 1, 0, 0, 1, 0, 1, 0, 0, 1, 0, 1, 0, 1, 1, 1, 0, 0, 1, 0, 1, 0,\n",
       "       0, 0, 1, 0, 0, 0, 0, 1, 1, 1, 0, 0, 0, 0, 0, 0, 0, 0, 0, 1, 0, 0,\n",
       "       0, 0, 0, 1, 1, 1, 0, 1, 1, 0, 0, 1, 0, 0, 1, 0, 0, 1, 1, 0, 0, 0,\n",
       "       0, 1, 0, 0, 1, 0, 0, 0, 0, 0, 0, 0, 1, 1, 1, 0, 0, 1, 0, 0, 1, 0,\n",
       "       0, 1, 0, 1, 1, 0, 1, 0, 1, 0, 1, 0, 1, 1, 0, 0, 0, 0, 1, 1, 0, 1,\n",
       "       0, 1, 0, 0, 0, 0, 1, 1, 0, 1, 0, 1, 0, 0, 0, 0, 0, 1, 0, 0, 0, 0,\n",
       "       1, 0, 0, 1, 1, 1, 0, 0, 1, 0, 0, 1, 0, 0, 0, 1, 0, 0, 1, 0, 0, 0,\n",
       "       0, 0, 0, 0, 0, 0, 1, 0, 0, 0, 0, 0, 0, 0, 1, 0, 0, 0, 1, 0, 0, 0,\n",
       "       1, 1, 0, 0, 0, 0, 0, 0, 0, 1, 0, 0, 0, 0, 1, 0, 0, 0, 1, 0, 0, 0,\n",
       "       1, 0, 0, 0, 1, 0, 0, 0, 0, 1, 1, 0, 0, 0, 0, 0, 0, 1, 0, 0, 0, 0,\n",
       "       0, 0, 0, 0, 0, 0, 0, 1, 0, 0, 0, 1, 1, 1, 1, 0, 0, 1, 1, 0, 0, 0,\n",
       "       0, 0, 0, 0, 0, 0, 0, 0, 0, 0, 1, 1, 0, 0, 0, 0, 0, 0, 0, 1, 0, 0,\n",
       "       0, 0, 0, 0, 0, 1, 0, 1, 1, 0, 0, 0, 1, 0, 1, 0, 1, 0, 1, 0, 1, 0,\n",
       "       0, 1, 0, 0, 1, 0, 0, 0, 0, 1, 1, 0, 1, 0, 0, 0, 0, 1, 1, 0, 1, 0,\n",
       "       0, 0, 1, 1, 0, 0, 0, 0, 0, 0, 0, 0, 0, 0, 1, 0, 0, 0, 0, 1, 0, 0,\n",
       "       1, 0, 0, 0, 1, 0, 0, 0, 1, 1, 1, 0, 0, 0, 0, 0, 0, 1, 0, 0, 0, 1,\n",
       "       0, 1, 1, 1, 1, 0, 1, 1, 0, 0, 0, 0, 0, 0, 0, 1, 1, 0, 1, 0, 0, 1,\n",
       "       0, 1, 0, 0, 0, 0, 0, 1, 0, 1, 0, 1, 0, 1, 1, 0, 0, 0, 0, 1, 1, 0,\n",
       "       0, 0, 1, 0, 1, 1, 0, 0, 1, 0, 0, 1, 1, 0, 0, 1, 0, 0, 1, 0, 0, 0,\n",
       "       0, 0, 0, 0, 1, 1, 1, 0, 0, 0, 0, 0, 0, 1, 1, 0, 0, 1, 0, 0, 1, 0,\n",
       "       1, 1, 1, 0, 0, 1, 1, 1, 0, 1, 0, 1, 0, 1, 0, 0, 0, 0, 1, 0],\n",
       "      dtype=int64)"
      ]
     },
     "execution_count": 4,
     "metadata": {},
     "output_type": "execute_result"
    }
   ],
   "source": [
    "y"
   ]
  },
  {
   "cell_type": "code",
   "execution_count": 5,
   "id": "da4069d0",
   "metadata": {},
   "outputs": [],
   "source": [
    "from tensorflow.keras.utils import to_categorical \n",
    "#this code is one hot encoding in dependent variable colummn into two different columns "
   ]
  },
  {
   "cell_type": "code",
   "execution_count": 6,
   "id": "4e6a9a41",
   "metadata": {},
   "outputs": [
    {
     "data": {
      "text/plain": [
       "array([[0., 1.],\n",
       "       [1., 0.],\n",
       "       [0., 1.],\n",
       "       [1., 0.],\n",
       "       [0., 1.]], dtype=float32)"
      ]
     },
     "execution_count": 6,
     "metadata": {},
     "output_type": "execute_result"
    }
   ],
   "source": [
    "y = to_categorical(y)\n",
    "y[:5]"
   ]
  },
  {
   "cell_type": "code",
   "execution_count": 7,
   "id": "419ad1e5",
   "metadata": {},
   "outputs": [
    {
     "name": "stdout",
     "output_type": "stream",
     "text": [
      "(614, 8) (614, 2) (154, 8) (154, 2)\n"
     ]
    }
   ],
   "source": [
    "from sklearn.model_selection import train_test_split\n",
    "x_train,x_test,y_train,y_test = train_test_split(x, y, test_size=0.2 ,random_state=50)\n",
    "print(x_train.shape,y_train.shape,x_test.shape,y_test.shape)"
   ]
  },
  {
   "cell_type": "code",
   "execution_count": 8,
   "id": "675eef85",
   "metadata": {},
   "outputs": [],
   "source": [
    "#creating neural network\n",
    "from  tensorflow.keras.models import Sequential\n",
    "from  tensorflow.keras.layers import Dense\n",
    "#creating model\n",
    "model = Sequential() #creating model"
   ]
  },
  {
   "cell_type": "code",
   "execution_count": 15,
   "id": "2a2b391c",
   "metadata": {},
   "outputs": [],
   "source": [
    "#adding neurons\n",
    "\n",
    "model.add(Dense(512, activation = 'relu', input_dim = 8)) #adding input layer\n",
    "model.add(Dense(228, activation = 'relu')) #adding hidden layer with 228 neurons\n",
    "model.add(Dense(228, activation = 'relu'))#adding hidden layer with 228 neurons\n",
    "model.add(Dense(50, activation = 'relu'))#adding hidden layer with 50 neurons\n",
    "model.add(Dense(2, activation = 'softmax')) #adding output layer with 2 neurons because of softmax\n"
   ]
  },
  {
   "cell_type": "code",
   "execution_count": 16,
   "id": "ab6b0aad",
   "metadata": {},
   "outputs": [],
   "source": [
    "model.compile(optimizer='adam', loss = 'categorical_crossentropy', metrics = ['accuracy'])\n",
    "\n",
    "#in classification dataset, we always use categorica_crossentropy loss for calculating loss"
   ]
  },
  {
   "cell_type": "code",
   "execution_count": 17,
   "id": "4a366176",
   "metadata": {},
   "outputs": [
    {
     "name": "stdout",
     "output_type": "stream",
     "text": [
      "Epoch 1/200\n",
      "20/20 [==============================] - 3s 8ms/step - loss: 0.3937 - accuracy: 0.8925\n",
      "Epoch 2/200\n",
      "20/20 [==============================] - 0s 10ms/step - loss: 0.2606 - accuracy: 0.9121\n",
      "Epoch 3/200\n",
      "20/20 [==============================] - 0s 9ms/step - loss: 0.3429 - accuracy: 0.8860\n",
      "Epoch 4/200\n",
      "20/20 [==============================] - 0s 8ms/step - loss: 0.2388 - accuracy: 0.9169\n",
      "Epoch 5/200\n",
      "20/20 [==============================] - 0s 10ms/step - loss: 0.1661 - accuracy: 0.9446\n",
      "Epoch 6/200\n",
      "20/20 [==============================] - 0s 11ms/step - loss: 0.1977 - accuracy: 0.9365\n",
      "Epoch 7/200\n",
      "20/20 [==============================] - 0s 12ms/step - loss: 0.3064 - accuracy: 0.8779\n",
      "Epoch 8/200\n",
      "20/20 [==============================] - 0s 12ms/step - loss: 0.3545 - accuracy: 0.8616\n",
      "Epoch 9/200\n",
      "20/20 [==============================] - 0s 8ms/step - loss: 0.2943 - accuracy: 0.8941\n",
      "Epoch 10/200\n",
      "20/20 [==============================] - 0s 8ms/step - loss: 0.2832 - accuracy: 0.9039\n",
      "Epoch 11/200\n",
      "20/20 [==============================] - 0s 9ms/step - loss: 0.2310 - accuracy: 0.9121\n",
      "Epoch 12/200\n",
      "20/20 [==============================] - 0s 11ms/step - loss: 0.2032 - accuracy: 0.9349\n",
      "Epoch 13/200\n",
      "20/20 [==============================] - 0s 12ms/step - loss: 0.2064 - accuracy: 0.9300\n",
      "Epoch 14/200\n",
      "20/20 [==============================] - 0s 11ms/step - loss: 0.2315 - accuracy: 0.9088\n",
      "Epoch 15/200\n",
      "20/20 [==============================] - 0s 12ms/step - loss: 0.1034 - accuracy: 0.9658\n",
      "Epoch 16/200\n",
      "20/20 [==============================] - 0s 13ms/step - loss: 0.1126 - accuracy: 0.9560\n",
      "Epoch 17/200\n",
      "20/20 [==============================] - 0s 10ms/step - loss: 0.4105 - accuracy: 0.8469\n",
      "Epoch 18/200\n",
      "20/20 [==============================] - 0s 10ms/step - loss: 0.3504 - accuracy: 0.8567\n",
      "Epoch 19/200\n",
      "20/20 [==============================] - 0s 10ms/step - loss: 0.2447 - accuracy: 0.8925\n",
      "Epoch 20/200\n",
      "20/20 [==============================] - 0s 10ms/step - loss: 0.1901 - accuracy: 0.9235\n",
      "Epoch 21/200\n",
      "20/20 [==============================] - 0s 12ms/step - loss: 0.2084 - accuracy: 0.9153\n",
      "Epoch 22/200\n",
      "20/20 [==============================] - 0s 13ms/step - loss: 0.1923 - accuracy: 0.9218\n",
      "Epoch 23/200\n",
      "20/20 [==============================] - 0s 22ms/step - loss: 0.2035 - accuracy: 0.9121\n",
      "Epoch 24/200\n",
      "20/20 [==============================] - 0s 18ms/step - loss: 0.2161 - accuracy: 0.9251\n",
      "Epoch 25/200\n",
      "20/20 [==============================] - 0s 12ms/step - loss: 0.1633 - accuracy: 0.9349\n",
      "Epoch 26/200\n",
      "20/20 [==============================] - 0s 13ms/step - loss: 0.1681 - accuracy: 0.9381\n",
      "Epoch 27/200\n",
      "20/20 [==============================] - 0s 14ms/step - loss: 0.2423 - accuracy: 0.9039\n",
      "Epoch 28/200\n",
      "20/20 [==============================] - 0s 11ms/step - loss: 0.1949 - accuracy: 0.9283\n",
      "Epoch 29/200\n",
      "20/20 [==============================] - 0s 11ms/step - loss: 0.1496 - accuracy: 0.9397\n",
      "Epoch 30/200\n",
      "20/20 [==============================] - 0s 10ms/step - loss: 0.2056 - accuracy: 0.9153\n",
      "Epoch 31/200\n",
      "20/20 [==============================] - 0s 10ms/step - loss: 0.1705 - accuracy: 0.9414\n",
      "Epoch 32/200\n",
      "20/20 [==============================] - 0s 14ms/step - loss: 0.1503 - accuracy: 0.9430\n",
      "Epoch 33/200\n",
      "20/20 [==============================] - 0s 12ms/step - loss: 0.1139 - accuracy: 0.9609\n",
      "Epoch 34/200\n",
      "20/20 [==============================] - 0s 14ms/step - loss: 0.0874 - accuracy: 0.9625\n",
      "Epoch 35/200\n",
      "20/20 [==============================] - 0s 14ms/step - loss: 0.1395 - accuracy: 0.9463\n",
      "Epoch 36/200\n",
      "20/20 [==============================] - 0s 11ms/step - loss: 0.1503 - accuracy: 0.9430\n",
      "Epoch 37/200\n",
      "20/20 [==============================] - 0s 13ms/step - loss: 0.1151 - accuracy: 0.9511\n",
      "Epoch 38/200\n",
      "20/20 [==============================] - 0s 11ms/step - loss: 0.1623 - accuracy: 0.9463\n",
      "Epoch 39/200\n",
      "20/20 [==============================] - 0s 12ms/step - loss: 0.1354 - accuracy: 0.9446\n",
      "Epoch 40/200\n",
      "20/20 [==============================] - 0s 12ms/step - loss: 0.0982 - accuracy: 0.9577\n",
      "Epoch 41/200\n",
      "20/20 [==============================] - 0s 12ms/step - loss: 0.1858 - accuracy: 0.9251\n",
      "Epoch 42/200\n",
      "20/20 [==============================] - 0s 13ms/step - loss: 0.1599 - accuracy: 0.9235\n",
      "Epoch 43/200\n",
      "20/20 [==============================] - 0s 11ms/step - loss: 0.1395 - accuracy: 0.9446\n",
      "Epoch 44/200\n",
      "20/20 [==============================] - 0s 10ms/step - loss: 0.1535 - accuracy: 0.9495\n",
      "Epoch 45/200\n",
      "20/20 [==============================] - 0s 10ms/step - loss: 0.1251 - accuracy: 0.9560\n",
      "Epoch 46/200\n",
      "20/20 [==============================] - 0s 10ms/step - loss: 0.1211 - accuracy: 0.9446\n",
      "Epoch 47/200\n",
      "20/20 [==============================] - 0s 12ms/step - loss: 0.0969 - accuracy: 0.9609\n",
      "Epoch 48/200\n",
      "20/20 [==============================] - 0s 12ms/step - loss: 0.0677 - accuracy: 0.9707\n",
      "Epoch 49/200\n",
      "20/20 [==============================] - 0s 14ms/step - loss: 0.0865 - accuracy: 0.9625\n",
      "Epoch 50/200\n",
      "20/20 [==============================] - 0s 11ms/step - loss: 0.1105 - accuracy: 0.9511\n",
      "Epoch 51/200\n",
      "20/20 [==============================] - 0s 10ms/step - loss: 0.1409 - accuracy: 0.9511\n",
      "Epoch 52/200\n",
      "20/20 [==============================] - 0s 10ms/step - loss: 0.0734 - accuracy: 0.9691\n",
      "Epoch 53/200\n",
      "20/20 [==============================] - 0s 10ms/step - loss: 0.2202 - accuracy: 0.9235\n",
      "Epoch 54/200\n",
      "20/20 [==============================] - 0s 11ms/step - loss: 0.1824 - accuracy: 0.9186\n",
      "Epoch 55/200\n",
      "20/20 [==============================] - 0s 11ms/step - loss: 0.1374 - accuracy: 0.9511\n",
      "Epoch 56/200\n",
      "20/20 [==============================] - 0s 10ms/step - loss: 0.1249 - accuracy: 0.9544\n",
      "Epoch 57/200\n",
      "20/20 [==============================] - 0s 11ms/step - loss: 0.0833 - accuracy: 0.9642\n",
      "Epoch 58/200\n",
      "20/20 [==============================] - 0s 11ms/step - loss: 0.1200 - accuracy: 0.9463\n",
      "Epoch 59/200\n",
      "20/20 [==============================] - 0s 11ms/step - loss: 0.1613 - accuracy: 0.9381\n",
      "Epoch 60/200\n",
      "20/20 [==============================] - 0s 14ms/step - loss: 0.1831 - accuracy: 0.9381\n",
      "Epoch 61/200\n",
      "20/20 [==============================] - 0s 10ms/step - loss: 0.2402 - accuracy: 0.9186\n",
      "Epoch 62/200\n",
      "20/20 [==============================] - 0s 12ms/step - loss: 0.3016 - accuracy: 0.8713\n",
      "Epoch 63/200\n",
      "20/20 [==============================] - 0s 10ms/step - loss: 0.2416 - accuracy: 0.9039\n",
      "Epoch 64/200\n",
      "20/20 [==============================] - 0s 12ms/step - loss: 0.1550 - accuracy: 0.9430\n",
      "Epoch 65/200\n",
      "20/20 [==============================] - 0s 10ms/step - loss: 0.0971 - accuracy: 0.9642\n",
      "Epoch 66/200\n",
      "20/20 [==============================] - 0s 11ms/step - loss: 0.1707 - accuracy: 0.9316\n",
      "Epoch 67/200\n",
      "20/20 [==============================] - 0s 9ms/step - loss: 0.1873 - accuracy: 0.9332\n",
      "Epoch 68/200\n",
      "20/20 [==============================] - 0s 10ms/step - loss: 0.0972 - accuracy: 0.9625\n",
      "Epoch 69/200\n",
      "20/20 [==============================] - 0s 11ms/step - loss: 0.0737 - accuracy: 0.9707\n",
      "Epoch 70/200\n",
      "20/20 [==============================] - 0s 10ms/step - loss: 0.0891 - accuracy: 0.9691\n",
      "Epoch 71/200\n",
      "20/20 [==============================] - 0s 13ms/step - loss: 0.1462 - accuracy: 0.9446\n",
      "Epoch 72/200\n",
      "20/20 [==============================] - 0s 13ms/step - loss: 0.1057 - accuracy: 0.9577\n",
      "Epoch 73/200\n",
      "20/20 [==============================] - 0s 11ms/step - loss: 0.2073 - accuracy: 0.9202\n",
      "Epoch 74/200\n",
      "20/20 [==============================] - 0s 9ms/step - loss: 0.1261 - accuracy: 0.9495\n",
      "Epoch 75/200\n",
      "20/20 [==============================] - 0s 9ms/step - loss: 0.1085 - accuracy: 0.9560\n",
      "Epoch 76/200\n",
      "20/20 [==============================] - 0s 16ms/step - loss: 0.1012 - accuracy: 0.9544\n",
      "Epoch 77/200\n",
      "20/20 [==============================] - 0s 17ms/step - loss: 0.1720 - accuracy: 0.9251\n",
      "Epoch 78/200\n",
      "20/20 [==============================] - 0s 15ms/step - loss: 0.2355 - accuracy: 0.8795\n",
      "Epoch 79/200\n",
      "20/20 [==============================] - 0s 10ms/step - loss: 0.2263 - accuracy: 0.8958\n",
      "Epoch 80/200\n",
      "20/20 [==============================] - 0s 16ms/step - loss: 0.1390 - accuracy: 0.9316\n",
      "Epoch 81/200\n",
      "20/20 [==============================] - 0s 13ms/step - loss: 0.0850 - accuracy: 0.9691\n",
      "Epoch 82/200\n"
     ]
    },
    {
     "name": "stdout",
     "output_type": "stream",
     "text": [
      "20/20 [==============================] - 0s 14ms/step - loss: 0.1308 - accuracy: 0.9511\n",
      "Epoch 83/200\n",
      "20/20 [==============================] - 0s 9ms/step - loss: 0.1506 - accuracy: 0.9479\n",
      "Epoch 84/200\n",
      "20/20 [==============================] - 0s 8ms/step - loss: 0.0852 - accuracy: 0.9691\n",
      "Epoch 85/200\n",
      "20/20 [==============================] - 0s 8ms/step - loss: 0.0667 - accuracy: 0.9772\n",
      "Epoch 86/200\n",
      "20/20 [==============================] - 0s 10ms/step - loss: 0.1028 - accuracy: 0.9691\n",
      "Epoch 87/200\n",
      "20/20 [==============================] - 0s 10ms/step - loss: 0.0773 - accuracy: 0.9642\n",
      "Epoch 88/200\n",
      "20/20 [==============================] - 0s 10ms/step - loss: 0.0637 - accuracy: 0.9723\n",
      "Epoch 89/200\n",
      "20/20 [==============================] - 0s 10ms/step - loss: 0.0552 - accuracy: 0.9788\n",
      "Epoch 90/200\n",
      "20/20 [==============================] - 0s 14ms/step - loss: 0.0590 - accuracy: 0.9691\n",
      "Epoch 91/200\n",
      "20/20 [==============================] - 0s 16ms/step - loss: 0.0481 - accuracy: 0.9821\n",
      "Epoch 92/200\n",
      "20/20 [==============================] - 0s 10ms/step - loss: 0.0639 - accuracy: 0.9756\n",
      "Epoch 93/200\n",
      "20/20 [==============================] - 0s 10ms/step - loss: 0.0427 - accuracy: 0.9837\n",
      "Epoch 94/200\n",
      "20/20 [==============================] - 0s 8ms/step - loss: 0.2523 - accuracy: 0.9202\n",
      "Epoch 95/200\n",
      "20/20 [==============================] - 0s 9ms/step - loss: 0.3224 - accuracy: 0.8697\n",
      "Epoch 96/200\n",
      "20/20 [==============================] - 0s 8ms/step - loss: 0.2035 - accuracy: 0.9251\n",
      "Epoch 97/200\n",
      "20/20 [==============================] - 0s 9ms/step - loss: 0.1557 - accuracy: 0.9365\n",
      "Epoch 98/200\n",
      "20/20 [==============================] - 0s 9ms/step - loss: 0.3591 - accuracy: 0.8371\n",
      "Epoch 99/200\n",
      "20/20 [==============================] - 0s 10ms/step - loss: 0.3425 - accuracy: 0.8404\n",
      "Epoch 100/200\n",
      "20/20 [==============================] - 0s 10ms/step - loss: 0.2161 - accuracy: 0.8941\n",
      "Epoch 101/200\n",
      "20/20 [==============================] - 0s 9ms/step - loss: 0.2172 - accuracy: 0.9007\n",
      "Epoch 102/200\n",
      "20/20 [==============================] - 0s 12ms/step - loss: 0.2207 - accuracy: 0.8925\n",
      "Epoch 103/200\n",
      "20/20 [==============================] - 0s 12ms/step - loss: 0.1776 - accuracy: 0.9137\n",
      "Epoch 104/200\n",
      "20/20 [==============================] - 0s 11ms/step - loss: 0.5576 - accuracy: 0.7736\n",
      "Epoch 105/200\n",
      "20/20 [==============================] - 0s 9ms/step - loss: 0.4517 - accuracy: 0.8208\n",
      "Epoch 106/200\n",
      "20/20 [==============================] - 0s 9ms/step - loss: 0.3847 - accuracy: 0.8322\n",
      "Epoch 107/200\n",
      "20/20 [==============================] - 0s 10ms/step - loss: 0.3112 - accuracy: 0.8811\n",
      "Epoch 108/200\n",
      "20/20 [==============================] - 0s 9ms/step - loss: 0.2690 - accuracy: 0.9007\n",
      "Epoch 109/200\n",
      "20/20 [==============================] - 0s 9ms/step - loss: 0.2770 - accuracy: 0.8941\n",
      "Epoch 110/200\n",
      "20/20 [==============================] - 0s 10ms/step - loss: 0.2508 - accuracy: 0.9072\n",
      "Epoch 111/200\n",
      "20/20 [==============================] - 0s 9ms/step - loss: 0.2114 - accuracy: 0.9283\n",
      "Epoch 112/200\n",
      "20/20 [==============================] - 0s 9ms/step - loss: 0.2305 - accuracy: 0.9137\n",
      "Epoch 113/200\n",
      "20/20 [==============================] - 0s 9ms/step - loss: 0.2522 - accuracy: 0.8974\n",
      "Epoch 114/200\n",
      "20/20 [==============================] - 0s 9ms/step - loss: 0.2740 - accuracy: 0.8909\n",
      "Epoch 115/200\n",
      "20/20 [==============================] - 0s 10ms/step - loss: 0.2070 - accuracy: 0.9267\n",
      "Epoch 116/200\n",
      "20/20 [==============================] - 0s 9ms/step - loss: 0.1669 - accuracy: 0.9446\n",
      "Epoch 117/200\n",
      "20/20 [==============================] - 0s 9ms/step - loss: 0.2306 - accuracy: 0.9039\n",
      "Epoch 118/200\n",
      "20/20 [==============================] - 0s 10ms/step - loss: 0.2498 - accuracy: 0.8746\n",
      "Epoch 119/200\n",
      "20/20 [==============================] - 0s 10ms/step - loss: 0.2343 - accuracy: 0.8990\n",
      "Epoch 120/200\n",
      "20/20 [==============================] - 0s 10ms/step - loss: 0.1876 - accuracy: 0.9283\n",
      "Epoch 121/200\n",
      "20/20 [==============================] - 0s 8ms/step - loss: 0.1500 - accuracy: 0.9414\n",
      "Epoch 122/200\n",
      "20/20 [==============================] - 0s 9ms/step - loss: 0.1389 - accuracy: 0.9463\n",
      "Epoch 123/200\n",
      "20/20 [==============================] - 0s 8ms/step - loss: 0.1802 - accuracy: 0.9267\n",
      "Epoch 124/200\n",
      "20/20 [==============================] - 0s 8ms/step - loss: 0.2188 - accuracy: 0.9186\n",
      "Epoch 125/200\n",
      "20/20 [==============================] - 0s 8ms/step - loss: 0.1751 - accuracy: 0.9365\n",
      "Epoch 126/200\n",
      "20/20 [==============================] - 0s 9ms/step - loss: 0.1180 - accuracy: 0.9577\n",
      "Epoch 127/200\n",
      "20/20 [==============================] - 0s 9ms/step - loss: 0.1320 - accuracy: 0.9560\n",
      "Epoch 128/200\n",
      "20/20 [==============================] - 0s 10ms/step - loss: 0.1092 - accuracy: 0.9528\n",
      "Epoch 129/200\n",
      "20/20 [==============================] - 0s 9ms/step - loss: 0.1355 - accuracy: 0.9397\n",
      "Epoch 130/200\n",
      "20/20 [==============================] - 0s 9ms/step - loss: 0.1414 - accuracy: 0.9414\n",
      "Epoch 131/200\n",
      "20/20 [==============================] - 0s 9ms/step - loss: 0.2007 - accuracy: 0.9267\n",
      "Epoch 132/200\n",
      "20/20 [==============================] - 0s 8ms/step - loss: 0.1303 - accuracy: 0.9593\n",
      "Epoch 133/200\n",
      "20/20 [==============================] - 0s 10ms/step - loss: 0.0975 - accuracy: 0.9544\n",
      "Epoch 134/200\n",
      "20/20 [==============================] - 0s 9ms/step - loss: 0.0935 - accuracy: 0.9691\n",
      "Epoch 135/200\n",
      "20/20 [==============================] - 0s 10ms/step - loss: 0.1717 - accuracy: 0.9316\n",
      "Epoch 136/200\n",
      "20/20 [==============================] - 0s 8ms/step - loss: 0.3517 - accuracy: 0.8697\n",
      "Epoch 137/200\n",
      "20/20 [==============================] - 0s 9ms/step - loss: 0.2327 - accuracy: 0.9055\n",
      "Epoch 138/200\n",
      "20/20 [==============================] - 0s 9ms/step - loss: 0.1494 - accuracy: 0.9381\n",
      "Epoch 139/200\n",
      "20/20 [==============================] - 0s 8ms/step - loss: 0.1547 - accuracy: 0.9267\n",
      "Epoch 140/200\n",
      "20/20 [==============================] - 0s 10ms/step - loss: 0.1099 - accuracy: 0.9544\n",
      "Epoch 141/200\n",
      "20/20 [==============================] - 0s 8ms/step - loss: 0.0911 - accuracy: 0.9528\n",
      "Epoch 142/200\n",
      "20/20 [==============================] - 0s 9ms/step - loss: 0.1122 - accuracy: 0.9593\n",
      "Epoch 143/200\n",
      "20/20 [==============================] - 0s 10ms/step - loss: 0.1868 - accuracy: 0.9267\n",
      "Epoch 144/200\n",
      "20/20 [==============================] - 0s 9ms/step - loss: 0.1446 - accuracy: 0.9528\n",
      "Epoch 145/200\n",
      "20/20 [==============================] - 0s 9ms/step - loss: 0.0844 - accuracy: 0.9691\n",
      "Epoch 146/200\n",
      "20/20 [==============================] - 0s 8ms/step - loss: 0.2128 - accuracy: 0.9121\n",
      "Epoch 147/200\n",
      "20/20 [==============================] - 0s 9ms/step - loss: 0.2020 - accuracy: 0.9202\n",
      "Epoch 148/200\n",
      "20/20 [==============================] - 0s 8ms/step - loss: 0.1539 - accuracy: 0.9349\n",
      "Epoch 149/200\n",
      "20/20 [==============================] - 0s 9ms/step - loss: 0.1351 - accuracy: 0.9479\n",
      "Epoch 150/200\n",
      "20/20 [==============================] - 0s 9ms/step - loss: 0.1312 - accuracy: 0.9463\n",
      "Epoch 151/200\n",
      "20/20 [==============================] - 0s 9ms/step - loss: 0.1336 - accuracy: 0.9560\n",
      "Epoch 152/200\n",
      "20/20 [==============================] - 0s 9ms/step - loss: 0.1474 - accuracy: 0.9430\n",
      "Epoch 153/200\n",
      "20/20 [==============================] - 0s 8ms/step - loss: 0.1003 - accuracy: 0.9642\n",
      "Epoch 154/200\n",
      "20/20 [==============================] - 0s 9ms/step - loss: 0.1856 - accuracy: 0.9186\n",
      "Epoch 155/200\n",
      "20/20 [==============================] - 0s 9ms/step - loss: 0.1220 - accuracy: 0.9528\n",
      "Epoch 156/200\n",
      "20/20 [==============================] - 0s 9ms/step - loss: 0.0666 - accuracy: 0.9723\n",
      "Epoch 157/200\n",
      "20/20 [==============================] - 0s 8ms/step - loss: 0.0468 - accuracy: 0.9805\n",
      "Epoch 158/200\n",
      "20/20 [==============================] - 0s 10ms/step - loss: 0.0447 - accuracy: 0.9772\n",
      "Epoch 159/200\n",
      "20/20 [==============================] - 0s 8ms/step - loss: 0.0937 - accuracy: 0.9707\n",
      "Epoch 160/200\n",
      "20/20 [==============================] - 0s 9ms/step - loss: 0.1993 - accuracy: 0.9235\n",
      "Epoch 161/200\n",
      "20/20 [==============================] - 0s 9ms/step - loss: 0.1385 - accuracy: 0.9495\n",
      "Epoch 162/200\n",
      "20/20 [==============================] - 0s 9ms/step - loss: 0.1008 - accuracy: 0.9577\n",
      "Epoch 163/200\n"
     ]
    },
    {
     "name": "stdout",
     "output_type": "stream",
     "text": [
      "20/20 [==============================] - 0s 9ms/step - loss: 0.0959 - accuracy: 0.9642\n",
      "Epoch 164/200\n",
      "20/20 [==============================] - 0s 9ms/step - loss: 0.1321 - accuracy: 0.9544\n",
      "Epoch 165/200\n",
      "20/20 [==============================] - 0s 9ms/step - loss: 0.1005 - accuracy: 0.9658\n",
      "Epoch 166/200\n",
      "20/20 [==============================] - 0s 8ms/step - loss: 0.0942 - accuracy: 0.9658\n",
      "Epoch 167/200\n",
      "20/20 [==============================] - 0s 10ms/step - loss: 0.0906 - accuracy: 0.9723\n",
      "Epoch 168/200\n",
      "20/20 [==============================] - 0s 9ms/step - loss: 0.0962 - accuracy: 0.9739\n",
      "Epoch 169/200\n",
      "20/20 [==============================] - 0s 10ms/step - loss: 0.0991 - accuracy: 0.9707\n",
      "Epoch 170/200\n",
      "20/20 [==============================] - 0s 9ms/step - loss: 0.2044 - accuracy: 0.9235\n",
      "Epoch 171/200\n",
      "20/20 [==============================] - 0s 10ms/step - loss: 0.1298 - accuracy: 0.9544\n",
      "Epoch 172/200\n",
      "20/20 [==============================] - 0s 9ms/step - loss: 0.0911 - accuracy: 0.9691\n",
      "Epoch 173/200\n",
      "20/20 [==============================] - 0s 10ms/step - loss: 0.1739 - accuracy: 0.9430\n",
      "Epoch 174/200\n",
      "20/20 [==============================] - 0s 9ms/step - loss: 0.1513 - accuracy: 0.9495\n",
      "Epoch 175/200\n",
      "20/20 [==============================] - 0s 10ms/step - loss: 0.1011 - accuracy: 0.9593\n",
      "Epoch 176/200\n",
      "20/20 [==============================] - 0s 9ms/step - loss: 0.1438 - accuracy: 0.9446\n",
      "Epoch 177/200\n",
      "20/20 [==============================] - 0s 11ms/step - loss: 0.0886 - accuracy: 0.9593\n",
      "Epoch 178/200\n",
      "20/20 [==============================] - 0s 10ms/step - loss: 0.0622 - accuracy: 0.9772\n",
      "Epoch 179/200\n",
      "20/20 [==============================] - 0s 9ms/step - loss: 0.0691 - accuracy: 0.9723\n",
      "Epoch 180/200\n",
      "20/20 [==============================] - 0s 9ms/step - loss: 0.0566 - accuracy: 0.9674\n",
      "Epoch 181/200\n",
      "20/20 [==============================] - 0s 9ms/step - loss: 0.1006 - accuracy: 0.9593\n",
      "Epoch 182/200\n",
      "20/20 [==============================] - 0s 10ms/step - loss: 0.1110 - accuracy: 0.9609\n",
      "Epoch 183/200\n",
      "20/20 [==============================] - 0s 8ms/step - loss: 0.1117 - accuracy: 0.9658\n",
      "Epoch 184/200\n",
      "20/20 [==============================] - 0s 10ms/step - loss: 0.0633 - accuracy: 0.9821\n",
      "Epoch 185/200\n",
      "20/20 [==============================] - 0s 9ms/step - loss: 0.1585 - accuracy: 0.9479\n",
      "Epoch 186/200\n",
      "20/20 [==============================] - 0s 10ms/step - loss: 0.1493 - accuracy: 0.9463\n",
      "Epoch 187/200\n",
      "20/20 [==============================] - 0s 8ms/step - loss: 0.1019 - accuracy: 0.9625\n",
      "Epoch 188/200\n",
      "20/20 [==============================] - 0s 10ms/step - loss: 0.2178 - accuracy: 0.9039\n",
      "Epoch 189/200\n",
      "20/20 [==============================] - 0s 8ms/step - loss: 0.1298 - accuracy: 0.9463\n",
      "Epoch 190/200\n",
      "20/20 [==============================] - 0s 10ms/step - loss: 0.0635 - accuracy: 0.9805\n",
      "Epoch 191/200\n",
      "20/20 [==============================] - 0s 9ms/step - loss: 0.0743 - accuracy: 0.9707\n",
      "Epoch 192/200\n",
      "20/20 [==============================] - 0s 10ms/step - loss: 0.0799 - accuracy: 0.9772\n",
      "Epoch 193/200\n",
      "20/20 [==============================] - 0s 8ms/step - loss: 0.0793 - accuracy: 0.9723\n",
      "Epoch 194/200\n",
      "20/20 [==============================] - 0s 10ms/step - loss: 0.0670 - accuracy: 0.9772\n",
      "Epoch 195/200\n",
      "20/20 [==============================] - 0s 8ms/step - loss: 0.0880 - accuracy: 0.9658\n",
      "Epoch 196/200\n",
      "20/20 [==============================] - 0s 12ms/step - loss: 0.1367 - accuracy: 0.9446\n",
      "Epoch 197/200\n",
      "20/20 [==============================] - 0s 9ms/step - loss: 0.1084 - accuracy: 0.9593\n",
      "Epoch 198/200\n",
      "20/20 [==============================] - 0s 10ms/step - loss: 0.1473 - accuracy: 0.9577\n",
      "Epoch 199/200\n",
      "20/20 [==============================] - 0s 8ms/step - loss: 0.1220 - accuracy: 0.9528\n",
      "Epoch 200/200\n",
      "20/20 [==============================] - 0s 10ms/step - loss: 0.0544 - accuracy: 0.9788\n"
     ]
    },
    {
     "data": {
      "text/plain": [
       "<keras.callbacks.History at 0x1dc635a32b0>"
      ]
     },
     "execution_count": 17,
     "metadata": {},
     "output_type": "execute_result"
    }
   ],
   "source": [
    "model.fit(x_train,y_train ,epochs=200)"
   ]
  },
  {
   "cell_type": "markdown",
   "id": "9e5da30f",
   "metadata": {},
   "source": [
    "Now we got our training accuracy as 97%. Now we will find out testing accuracy."
   ]
  },
  {
   "cell_type": "code",
   "execution_count": 25,
   "id": "73f2d8ba",
   "metadata": {},
   "outputs": [
    {
     "name": "stdout",
     "output_type": "stream",
     "text": [
      "20/20 [==============================] - 0s 4ms/step - loss: 0.0260 - accuracy: 0.9919\n"
     ]
    },
    {
     "data": {
      "text/plain": [
       "[0.026029441505670547, 0.9918566942214966]"
      ]
     },
     "execution_count": 25,
     "metadata": {},
     "output_type": "execute_result"
    }
   ],
   "source": [
    "scores1 = model.evaluate(x_train,y_train) #training accuracy\n",
    "scores1"
   ]
  },
  {
   "cell_type": "code",
   "execution_count": 26,
   "id": "cfd9e499",
   "metadata": {},
   "outputs": [
    {
     "name": "stdout",
     "output_type": "stream",
     "text": [
      "5/5 [==============================] - 0s 6ms/step - loss: 1.4820 - accuracy: 0.6818\n"
     ]
    },
    {
     "data": {
      "text/plain": [
       "[1.4819600582122803, 0.6818181872367859]"
      ]
     },
     "execution_count": 26,
     "metadata": {},
     "output_type": "execute_result"
    }
   ],
   "source": [
    "scores2 = model.evaluate(x_test,y_test) #testing accuracy\n",
    "scores2"
   ]
  },
  {
   "cell_type": "code",
   "execution_count": 27,
   "id": "dd3e9bdc",
   "metadata": {},
   "outputs": [
    {
     "name": "stdout",
     "output_type": "stream",
     "text": [
      "Training accuracy is : 0.9918566942214966 and Testing accuracy is : 0.6818181872367859\n"
     ]
    }
   ],
   "source": [
    "print (\"Training accuracy is :\",scores1[1] , \"and Testing accuracy is :\", scores2[1])"
   ]
  },
  {
   "cell_type": "markdown",
   "id": "306560be",
   "metadata": {},
   "source": [
    "Since there is a huge difference between both errors/accuracy, we can say that this model is overfitted."
   ]
  },
  {
   "cell_type": "markdown",
   "id": "f355052c",
   "metadata": {},
   "source": [
    "So now we will train model less."
   ]
  },
  {
   "cell_type": "code",
   "execution_count": 29,
   "id": "92bfe31d",
   "metadata": {},
   "outputs": [
    {
     "name": "stdout",
     "output_type": "stream",
     "text": [
      "Epoch 1/5\n",
      "20/20 [==============================] - 1s 2ms/step - loss: 58.8225 - accuracy: 0.3550\n",
      "Epoch 2/5\n",
      "20/20 [==============================] - 0s 3ms/step - loss: 52.2966 - accuracy: 0.3664\n",
      "Epoch 3/5\n",
      "20/20 [==============================] - 0s 2ms/step - loss: 46.2269 - accuracy: 0.3795\n",
      "Epoch 4/5\n",
      "20/20 [==============================] - 0s 2ms/step - loss: 40.9081 - accuracy: 0.4121\n",
      "Epoch 5/5\n",
      "20/20 [==============================] - 0s 2ms/step - loss: 36.2070 - accuracy: 0.4169\n"
     ]
    },
    {
     "data": {
      "text/plain": [
       "<keras.callbacks.History at 0x1dc6a747a60>"
      ]
     },
     "execution_count": 29,
     "metadata": {},
     "output_type": "execute_result"
    }
   ],
   "source": [
    "model2 = Sequential()\n",
    "model2.add(Dense(2, activation = 'relu', input_dim = 8)) #adding input layer\n",
    "model2.add(Dense(2, activation = 'softmax'))\n",
    "model2.compile(optimizer='adam', \n",
    "             loss = 'categorical_crossentropy',\n",
    "             metrics = ['accuracy'])\n",
    "model2.fit(x_train,y_train ,epochs=5)"
   ]
  },
  {
   "cell_type": "code",
   "execution_count": 30,
   "id": "d2b99563",
   "metadata": {},
   "outputs": [
    {
     "name": "stdout",
     "output_type": "stream",
     "text": [
      "20/20 [==============================] - 0s 2ms/step - loss: 33.9848 - accuracy: 0.4218\n"
     ]
    },
    {
     "data": {
      "text/plain": [
       "[33.98481750488281, 0.4218240976333618]"
      ]
     },
     "execution_count": 30,
     "metadata": {},
     "output_type": "execute_result"
    }
   ],
   "source": [
    "scoresa = model2.evaluate(x_train,y_train) #training accuracy\n",
    "scoresa"
   ]
  },
  {
   "cell_type": "code",
   "execution_count": 31,
   "id": "66df8359",
   "metadata": {},
   "outputs": [
    {
     "name": "stdout",
     "output_type": "stream",
     "text": [
      "5/5 [==============================] - 0s 5ms/step - loss: 32.8934 - accuracy: 0.4091\n"
     ]
    },
    {
     "data": {
      "text/plain": [
       "[32.893394470214844, 0.40909090638160706]"
      ]
     },
     "execution_count": 31,
     "metadata": {},
     "output_type": "execute_result"
    }
   ],
   "source": [
    "scoresb = model2.evaluate(x_test,y_test) #testing accuracy\n",
    "scoresb"
   ]
  },
  {
   "cell_type": "code",
   "execution_count": 32,
   "id": "339eeee5",
   "metadata": {},
   "outputs": [
    {
     "name": "stdout",
     "output_type": "stream",
     "text": [
      "Training accuracy is : 0.4218240976333618 and Testing accuracy is : 0.40909090638160706\n"
     ]
    }
   ],
   "source": [
    "print (\"Training accuracy is :\",scoresa[1] , \"and Testing accuracy is :\", scoresb[1])"
   ]
  },
  {
   "cell_type": "markdown",
   "id": "b9a31cb7",
   "metadata": {},
   "source": [
    "Now since errors is high, so here an underfitting problem arises."
   ]
  },
  {
   "cell_type": "markdown",
   "id": "6483dbfc",
   "metadata": {},
   "source": [
    "### Making Predictions"
   ]
  },
  {
   "cell_type": "code",
   "execution_count": 43,
   "id": "af604d22",
   "metadata": {},
   "outputs": [
    {
     "name": "stdout",
     "output_type": "stream",
     "text": [
      "1/1 [==============================] - 0s 54ms/step\n"
     ]
    },
    {
     "data": {
      "text/plain": [
       "array([[0.00170073, 0.9982993 ]], dtype=float32)"
      ]
     },
     "execution_count": 43,
     "metadata": {},
     "output_type": "execute_result"
    }
   ],
   "source": [
    "model.predict([[6,148,72,35,0,33.6,0.627,50]])"
   ]
  },
  {
   "cell_type": "code",
   "execution_count": 44,
   "id": "0807ad14",
   "metadata": {},
   "outputs": [
    {
     "name": "stdout",
     "output_type": "stream",
     "text": [
      "1/1 [==============================] - 0s 55ms/step\n",
      "1\n"
     ]
    }
   ],
   "source": [
    "op = model.predict([[6,148,72,35,0,33.6,0.627,50]])\n",
    "if op[0][0] >= 0.50:\n",
    "    print(\"0\")\n",
    "else:\n",
    "    print(\"1\")"
   ]
  },
  {
   "cell_type": "code",
   "execution_count": 45,
   "id": "e9270b11",
   "metadata": {},
   "outputs": [
    {
     "name": "stdout",
     "output_type": "stream",
     "text": [
      "1/1 [==============================] - 0s 115ms/step\n",
      "1\n"
     ]
    }
   ],
   "source": [
    "op = model2.predict([[6,148,72,35,0,33.6,0.627,50]])\n",
    "if op[0][0] >= 0.50:\n",
    "    print(\"0\")\n",
    "else:\n",
    "    print(\"1\")"
   ]
  },
  {
   "cell_type": "code",
   "execution_count": null,
   "id": "74e6830c",
   "metadata": {},
   "outputs": [],
   "source": []
  }
 ],
 "metadata": {
  "kernelspec": {
   "display_name": "Python 3 (ipykernel)",
   "language": "python",
   "name": "python3"
  },
  "language_info": {
   "codemirror_mode": {
    "name": "ipython",
    "version": 3
   },
   "file_extension": ".py",
   "mimetype": "text/x-python",
   "name": "python",
   "nbconvert_exporter": "python",
   "pygments_lexer": "ipython3",
   "version": "3.9.12"
  }
 },
 "nbformat": 4,
 "nbformat_minor": 5
}
